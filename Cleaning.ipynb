{
  "nbformat": 4,
  "nbformat_minor": 0,
  "metadata": {
    "colab": {
      "provenance": []
    },
    "kernelspec": {
      "name": "python3",
      "display_name": "Python 3"
    },
    "language_info": {
      "name": "python"
    }
  },
  "cells": [
    {
      "cell_type": "code",
      "execution_count": null,
      "metadata": {
        "id": "3u_4O7sU1UtW"
      },
      "outputs": [],
      "source": [
        "import pandas as pd"
      ]
    },
    {
      "cell_type": "markdown",
      "source": [
        "Future helper function for string variables that need converted"
      ],
      "metadata": {
        "id": "6W2I9xy_1bD8"
      }
    },
    {
      "cell_type": "code",
      "source": [
        "def inchesConverter(x):\n",
        "    g= x.strip().split(\"'\")\n",
        "    return (int(g[0])*12+float(g[1]))"
      ],
      "metadata": {
        "id": "LCzmLICe1Zne"
      },
      "execution_count": null,
      "outputs": []
    },
    {
      "cell_type": "markdown",
      "source": [
        "Datasets that need combined and cleaned"
      ],
      "metadata": {
        "id": "3tKGwKAm1kwj"
      }
    },
    {
      "cell_type": "code",
      "source": [
        "combine = pd.read_csv(\"NBACombine.csv\")\n",
        "collegeStats = pd.read_csv(\"CollegeStats.csv\")\n",
        "nbaStats = pd.read_csv(\"nba_player_data.csv\")"
      ],
      "metadata": {
        "id": "301klYZ41iJF"
      },
      "execution_count": null,
      "outputs": []
    },
    {
      "cell_type": "markdown",
      "source": [
        "Merging Combine and college stats"
      ],
      "metadata": {
        "id": "f0Z1zmvb1wlk"
      }
    },
    {
      "cell_type": "code",
      "source": [
        "combine = combine.rename(columns={'Player': 'Name'})\n",
        "nbaStats = nbaStats.rename(columns={\"PLAYER\":'Name'})\n",
        "temp = combine.dropna()\n",
        "\n",
        "combineCollegeMerge = pd.merge(temp, collegeStats, on='Name', how='inner')"
      ],
      "metadata": {
        "id": "nXs0yDLJ1zXZ"
      },
      "execution_count": null,
      "outputs": []
    },
    {
      "cell_type": "markdown",
      "source": [
        "Cleaning CollegeCombine Merged"
      ],
      "metadata": {
        "id": "2vxYsuv41-QK"
      }
    },
    {
      "cell_type": "code",
      "source": [
        "wingspan = combineCollegeMerge[\"Wingspan\"].apply(lambda x: inchesConverter(x))\n",
        "height = combineCollegeMerge[\"Height Without Shoes\"].apply(lambda x: inchesConverter(x))\n",
        "reach = combineCollegeMerge[\"Standing Reach\"].apply(lambda x: inchesConverter(x))\n",
        "combineCollegeMerge[\"Wingspan\"],combineCollegeMerge[\"Height Without Shoes\"],combineCollegeMerge[\"Standing Reach\"] = wingspan, height, reach\n",
        "collegeFinal = combineCollegeMerge[[\"Name\",\"Year\",\"Height Without Shoes\",\"Wingspan\",\"Standing Reach\",\"G\",\"PTS\",\"TRB\",\"AST\",\"2P%\",\"3P%\",\"FT%\",\"Pos\"]]"
      ],
      "metadata": {
        "id": "m0w40-1a1_8n"
      },
      "execution_count": null,
      "outputs": []
    },
    {
      "cell_type": "markdown",
      "source": [
        "Removing NA then duplicates for final merge with NBA data. Names were properly joining, but created few duplicates"
      ],
      "metadata": {
        "id": "F0yRiQmd2A0O"
      }
    },
    {
      "cell_type": "code",
      "source": [
        "nba =nbaStats.groupby(\"Name\").agg({\"GP\":'sum'})\n",
        "Final = pd.merge(collegeFinal, nba, on='Name', how='inner')\n",
        "Final = Final.drop_duplicates()"
      ],
      "metadata": {
        "id": "6cB9_R9o2Los"
      },
      "execution_count": null,
      "outputs": []
    },
    {
      "cell_type": "code",
      "source": [
        "train = Final.sample(frac=.7, random_state=11)\n",
        "leftover = Final.drop(train.index)\n",
        "test = leftover.sample(frac = 2/3, random_state=11)\n",
        "validation = leftover.drop(test.index)\n",
        "\n",
        "train.to_csv(\"TrainSet.csv\",index=False)\n",
        "test.to_csv(\"TestSet.csv\",index=False)\n",
        "validation.to_csv(\"ValidationSet.csv\",index=False)"
      ],
      "metadata": {
        "id": "uKs-2aVB2V22"
      },
      "execution_count": null,
      "outputs": []
    }
  ]
}